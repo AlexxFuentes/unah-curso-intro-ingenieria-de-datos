{
 "cells": [
  {
   "cell_type": "markdown",
   "metadata": {
    "id": "fX0AMtvVBPLH"
   },
   "source": [
    "## **S4 Ejercicios: funciones**"
   ]
  },
  {
   "cell_type": "markdown",
   "metadata": {
    "id": "-XPvvh1ABTqW"
   },
   "source": [
    "# Ejercicio 1"
   ]
  },
  {
   "cell_type": "markdown",
   "metadata": {
    "id": "qz8hFPu4BXjY"
   },
   "source": [
    "Solicitar al usuario que introduzca su dirección de email. Imprimir un mensaje indicando si la dirección es válida o no, valiéndose de una función para decidirlo. Una dirección se considerará válida si contiene el símbolo \"@\"."
   ]
  },
  {
   "cell_type": "code",
   "execution_count": 7,
   "metadata": {
    "id": "h5fdczVuAxbZ"
   },
   "outputs": [],
   "source": [
    "def validateEmail(email:str=\"\") -> bool:\n",
    "    \"\"\"\n",
    "        Función que valida un email\n",
    "        @params {str} email: correo electrónico.\n",
    "        @return {bool}\n",
    "    \"\"\"\n",
    "    return True if \"@\" in email else False"
   ]
  },
  {
   "cell_type": "code",
   "execution_count": 6,
   "metadata": {},
   "outputs": [
    {
     "name": "stdout",
     "output_type": "stream",
     "text": [
      "Introduzca un email: hasdjashj@fjhdjf\n",
      "Email válido\n"
     ]
    }
   ],
   "source": [
    "if __name__ == \"__main__\":\n",
    "    email = input(\"Introduzca un email: \")\n",
    "    print(\"Email válido\" if validateEmail(email) else \"Email inválido\")"
   ]
  },
  {
   "cell_type": "markdown",
   "metadata": {
    "id": "_4t579kzBX9q"
   },
   "source": [
    "# Ejercicio 2"
   ]
  },
  {
   "cell_type": "markdown",
   "metadata": {
    "id": "yVTMmHwyBZd3"
   },
   "source": [
    "Solicitar números al usuario hasta que ingrese el cero. Por cada uno, mostrar la suma de sus dígitos (utilizando una función que realice dicha suma)."
   ]
  },
  {
   "cell_type": "code",
   "execution_count": null,
   "metadata": {
    "id": "RUhRP03VBZky"
   },
   "outputs": [],
   "source": []
  },
  {
   "cell_type": "code",
   "execution_count": null,
   "metadata": {},
   "outputs": [],
   "source": [
    "if __name__ == \"__main__\":\n",
    "    pass"
   ]
  },
  {
   "cell_type": "markdown",
   "metadata": {
    "id": "XDE4-3UUBZxr"
   },
   "source": [
    "# Ejercicio 3"
   ]
  },
  {
   "cell_type": "markdown",
   "metadata": {
    "id": "WvOYBmoVBasH"
   },
   "source": [
    "Escribir un programa que permita al usuario obtener un identificador para cada uno de los socios de un club. Para eso ingresará nombre completo y número de DNI de cada socio, indicando que finalizará el procesamiento mediante el ingreso de un nombre vacío. Precondición: el formato del nombre de los socios será: nombre apellido. Podría ingresar más de un nombre, en cuyo caso será: nombre1 nombre2 apellido. Si un socio tuviera más de un apellido, el usuario sólo ingresará uno. Se debe validar que el número de DNI tenga 7 u 8 dígitos. En caso contrario, el programa debe dejar al usuario en un bucle hasta que ingrese un DNI correcto. Por cada socio se debe imprimir su identificador único, el cual estará formado por: el primer nombre, la cantidad de letras del apellido y los primeros 3 dígitos de su DNI. Ejemplo:\n",
    "\n",
    "Nombre: Alba María Linares\n",
    "\n",
    "DNI: 25834910\n",
    "\n",
    "Alba7258"
   ]
  },
  {
   "cell_type": "code",
   "execution_count": 58,
   "metadata": {},
   "outputs": [],
   "source": [
    "def get_full_name() -> str:\n",
    "    return input(\"Ingrese su nombre y apellido: \")\n",
    "\n",
    "\n",
    "def validate_full_name(f_name: str) -> bool:\n",
    "    return True if len(f_name.split(\" \")) >= 4 else False\n",
    "\n",
    "\n",
    "def validate_dni(dni: str) -> bool:\n",
    "    return True if len(dni) == 8 or len(dni) == 7 else False\n",
    "\n",
    "\n",
    "def process_full_name(full_name: str) -> list:\n",
    "    f_name = full_name.split(\" \")\n",
    "    return [f_name[0], len(f_name[-1])]\n",
    "    \n",
    "    \n",
    "def process_dni(dni: str) -> str:\n",
    "    return dni[0:3]"
   ]
  },
  {
   "cell_type": "code",
   "execution_count": 59,
   "metadata": {
    "id": "EGtQSAy-Ba1G"
   },
   "outputs": [
    {
     "name": "stdout",
     "output_type": "stream",
     "text": [
      "Ingrese su nombre y apellido: Alex Fuentes\n",
      "Validate full name False\n",
      "Ingrese su dni de 8 digitos: 123456\n",
      "Ingrese su dni de 8 digitos: 12345678\n",
      "Nombre: Alex Fuentes\n",
      "DNI: 12345678\n",
      "Identificador: Alex7123\n",
      "Ingrese su nombre y apellido: Alex Alfredo Fuentes Maldonado\n",
      "Validate full name True\n",
      "Ingresa tu nombre en formato nombre1 apellido1 o nombre1 nombre2 apelllido1\n",
      "Ingrese su nombre y apellido: Alex Fuentes\n",
      "Validate full name False\n",
      "Ingrese su dni de 8 digitos: 1234567\n",
      "Nombre: Alex Fuentes\n",
      "DNI: 1234567\n",
      "Identificador: Alex7123\n",
      "Ingrese su nombre y apellido: \n",
      "Validate full name False\n"
     ]
    }
   ],
   "source": [
    "if __name__ == \"__main__\": \n",
    "    full_name = \"a\"\n",
    "    \n",
    "    while len(full_name) != 0:\n",
    "        \n",
    "        while True:\n",
    "            full_name = get_full_name()\n",
    "            \n",
    "            if validate_full_name(full_name):\n",
    "                print(\"Ingresa tu nombre en formato nombre1 apellido1 o nombre1 nombre2 apellido1\")\n",
    "            else:\n",
    "                break\n",
    "        \n",
    "        if len(full_name) == 0:\n",
    "            break\n",
    "        \n",
    "        while True:\n",
    "            dni = input(\"Ingrese su dni de 8 digitos: \")\n",
    "            if validate_dni(dni):\n",
    "                break\n",
    "            \n",
    "        p_f_name = process_full_name(full_name)\n",
    "        p_dni = process_dni(dni)\n",
    "        \n",
    "        print(f\"Nombre: {full_name}\")\n",
    "        print(f\"DNI: {dni}\")\n",
    "        print(f\"Identificador: {p_f_name[0]}{p_f_name[1]}{p_dni}\")"
   ]
  },
  {
   "cell_type": "markdown",
   "metadata": {
    "id": "UjxzkDQPBa7q"
   },
   "source": [
    "# Ejercicio 4"
   ]
  },
  {
   "cell_type": "markdown",
   "metadata": {
    "id": "WIkstjodDjXs"
   },
   "source": [
    "Una inmobiliaria de una ciudad maneja una lista de inmuebles como la siguiente (Una lista donde cada elemento es un diccionario):\n",
    "\n",
    "[{'año': 2000, 'metros': 100, 'habitaciones': 3, 'garaje': True, 'zona': 'A'}, {'año': 2012, 'metros': 60, 'habitaciones': 2, 'garaje': True, 'zona': 'B'}, {'año': 1980, 'metros': 120, 'habitaciones': 4, 'garaje': False, 'zona': 'A'}, {'año': 2005, 'metros': 75, 'habitaciones': 3, 'garaje': True, 'zona': 'B'}, {'año': 2015, 'metros': 90, 'habitaciones': 2, 'garaje': False, 'zona': 'A'}]\n",
    "\n",
    "Construir una función que permita hacer búsqueda de inmuebles en función de un presupuesto dado. La función recibirá como entrada la lista de inmuebles y un precio, y devolverá otra lista con los inmuebles cuyo precio sea menor o igual que el dado. Los inmuebles de la lista que se devuelva deben incorporar un nuevo par a cada diccionario con el precio del inmueble, donde el precio de un inmueble se calcula con las siguiente fórmula en función de la zona:\n",
    "\n",
    "Zona A: precio = (metros x 1000 + habitaciones x 5000 + garaje x 15000) x (1 - antiguedad / 100) \n",
    "Zona B: precio = (metros x 1000 + habitaciones x 5000 + garaje x 15000) x (1 - antiguedad / 100) x 1.5"
   ]
  },
  {
   "cell_type": "code",
   "execution_count": 87,
   "metadata": {},
   "outputs": [],
   "source": [
    "from datetime import datetime\n",
    "\n",
    "def precio_zona_A(values_dict: dict) -> float:\n",
    "    return round((values_dict['metros'] * 1000 + values_dict['habitaciones'] * 5000 + (1 if values_dict['garaje'] else 0) * 15000) * (1 - (values_dict['antiguedad'] / 100)), 2)\n",
    "\n",
    "\n",
    "def precio_zona_B(values_dict: dict) -> float:\n",
    "    return round((values_dict['metros'] * 1000 + values_dict['habitaciones'] * 5000 + (1 if values_dict['garaje'] else 0) * 15000) * (1 - (values_dict['antiguedad'] / 100)) * 1.5, 2)\n",
    "\n",
    "\n",
    "def cal_antiguedad(values_dict: dict) -> int:\n",
    "    now = datetime.now()\n",
    "    return now.year - values_dict['año']\n",
    "\n",
    "\n",
    "def process_list(list_in: list) -> list:\n",
    "    for value in list_in:\n",
    "        value['antiguedad'] = cal_antiguedad(value)\n",
    "        \n",
    "        if value['zona'] == 'A':\n",
    "            #print(value)\n",
    "            value['precio'] = precio_zona_A(value)\n",
    "        if value['zona'] == 'B':\n",
    "            #print(value)\n",
    "            value['precio'] = precio_zona_B(value)\n",
    "            \n",
    "    return list_in\n",
    "\n",
    "\n",
    "def find_inmobiliario(list_in: list, presupuesto: float) -> list:\n",
    "    \n",
    "    new_list = []\n",
    "    \n",
    "    for value in list_in:\n",
    "        if value['precio'] <= presupuesto:\n",
    "            new_list.append(value)\n",
    "    return new_list\n",
    "    "
   ]
  },
  {
   "cell_type": "code",
   "execution_count": 92,
   "metadata": {
    "id": "FP6tXzOmDj0e"
   },
   "outputs": [
    {
     "name": "stdout",
     "output_type": "stream",
     "text": [
      "[{'año': 2000, 'metros': 100, 'habitaciones': 3, 'garaje': True, 'zona': 'A', 'antiguedad': 23, 'precio': 100100.0}, {'año': 2012, 'metros': 60, 'habitaciones': 2, 'garaje': True, 'zona': 'B', 'antiguedad': 11, 'precio': 113475.0}, {'año': 1980, 'metros': 120, 'habitaciones': 4, 'garaje': False, 'zona': 'A', 'antiguedad': 43, 'precio': 79800.0}, {'año': 2005, 'metros': 75, 'habitaciones': 3, 'garaje': True, 'zona': 'B', 'antiguedad': 18, 'precio': 129150.0}, {'año': 2015, 'metros': 90, 'habitaciones': 2, 'garaje': False, 'zona': 'A', 'antiguedad': 8, 'precio': 92000.0}]\n",
      "\n",
      "Ingrese un presupuesto: 90000\n",
      "[{'año': 1980, 'metros': 120, 'habitaciones': 4, 'garaje': False, 'zona': 'A', 'antiguedad': 43, 'precio': 79800.0}]\n"
     ]
    }
   ],
   "source": [
    "if __name__ == \"__main__\":\n",
    "    inmobiliaria_list = [\n",
    "        {'año': 2000, 'metros': 100, 'habitaciones': 3, 'garaje': True, 'zona': 'A'}, \n",
    "        {'año': 2012, 'metros': 60, 'habitaciones': 2, 'garaje': True, 'zona': 'B'}, \n",
    "        {'año': 1980, 'metros': 120, 'habitaciones': 4, 'garaje': False, 'zona': 'A'}, \n",
    "        {'año': 2005, 'metros': 75, 'habitaciones': 3, 'garaje': True, 'zona': 'B'}, \n",
    "        {'año': 2015, 'metros': 90, 'habitaciones': 2, 'garaje': False, 'zona': 'A'}\n",
    "    ]\n",
    "    \n",
    "    \n",
    "    p_list = process_list(inmobiliaria_list)\n",
    "    print(p_list)\n",
    "    print()    \n",
    "    presupuesto = float(input(\"Ingrese un presupuesto: \"))\n",
    "   \n",
    "    print(find_inmobiliario(p_list, presupuesto))\n",
    "    "
   ]
  }
 ],
 "metadata": {
  "colab": {
   "provenance": []
  },
  "kernelspec": {
   "display_name": "Python 3 (ipykernel)",
   "language": "python",
   "name": "python3"
  },
  "language_info": {
   "codemirror_mode": {
    "name": "ipython",
    "version": 3
   },
   "file_extension": ".py",
   "mimetype": "text/x-python",
   "name": "python",
   "nbconvert_exporter": "python",
   "pygments_lexer": "ipython3",
   "version": "3.10.6"
  },
  "vscode": {
   "interpreter": {
    "hash": "31f2aee4e71d21fbe5cf8b01ff0e069b9275f58929596ceb00d14d90e3e16cd6"
   }
  }
 },
 "nbformat": 4,
 "nbformat_minor": 1
}
