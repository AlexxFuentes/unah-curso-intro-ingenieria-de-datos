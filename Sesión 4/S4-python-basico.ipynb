{
 "cells": [
  {
   "cell_type": "markdown",
   "metadata": {
    "id": "fX0AMtvVBPLH"
   },
   "source": [
    "# **S4: Python básico**"
   ]
  },
  {
   "cell_type": "markdown",
   "metadata": {},
   "source": [
    "---"
   ]
  },
  {
   "cell_type": "markdown",
   "metadata": {},
   "source": [
    "## a) Variables:"
   ]
  },
  {
   "cell_type": "markdown",
   "metadata": {},
   "source": [
    "### 1. Variables numéricas:"
   ]
  },
  {
   "cell_type": "markdown",
   "metadata": {},
   "source": [
    "#### Ejercicio típico:\n",
    "Enunciado: Escribe un programa que declare tres variables: edad, altura y saldo_bancario. Asigna valores numéricos a cada variable y realiza operaciones aritméticas con ellas. Luego, muestra por pantalla los valores de las variables y los resultados de las operaciones."
   ]
  },
  {
   "cell_type": "code",
   "execution_count": null,
   "metadata": {},
   "outputs": [],
   "source": [
    "if __name__ == \"__main__\":\n",
    "    pass"
   ]
  },
  {
   "cell_type": "markdown",
   "metadata": {},
   "source": [
    "#### Ejercicio de la vida cotidiana:\n",
    "Enunciado: Imagina que estás calculando los gastos de tu último viaje. Crea un programa que guarde en variables la cantidad de dinero que gastaste, tu altura en metros y el saldo bancario que te queda. Realiza operaciones para calcular tu nuevo saldo después de restar una cantidad específica y también para incrementar tu altura en unos centímetros. Al final, muestra por pantalla tus gastos, tu altura actual y tu nuevo saldo bancario."
   ]
  },
  {
   "cell_type": "code",
   "execution_count": null,
   "metadata": {},
   "outputs": [],
   "source": [
    "if __name__ == \"__main__\":\n",
    "    pass"
   ]
  },
  {
   "cell_type": "markdown",
   "metadata": {},
   "source": [
    "### 2. Variables de texto"
   ]
  },
  {
   "cell_type": "markdown",
   "metadata": {},
   "source": [
    "#### Ejercicio típico:\n",
    "Enunciado: Crea un programa que almacene en variables los siguientes datos de una persona: nombre, apellido y ciudad. Combina las variables de texto para obtener el nombre completo de la persona y su dirección. Finalmente, muestra por pantalla el nombre completo y la dirección."
   ]
  },
  {
   "cell_type": "code",
   "execution_count": null,
   "metadata": {},
   "outputs": [],
   "source": [
    "if __name__ == \"__main__\":\n",
    "    pass"
   ]
  },
  {
   "cell_type": "markdown",
   "metadata": {},
   "source": [
    "#### Ejercicio de la vida cotidiana:\n",
    "Enunciado: Supongamos que estás organizando una reunión familiar. Escribe un programa que almacene en variables tu nombre, tu apellido y la ciudad donde se realizará la reunión. Combina las variables para obtener tu nombre completo y la dirección de la reunión. Luego, muestra por pantalla tu nombre completo y la dirección."
   ]
  },
  {
   "cell_type": "code",
   "execution_count": null,
   "metadata": {},
   "outputs": [],
   "source": [
    "if __name__ == \"__main__\":\n",
    "    pass"
   ]
  },
  {
   "cell_type": "markdown",
   "metadata": {},
   "source": [
    "### 3. Variables booleanas"
   ]
  },
  {
   "cell_type": "markdown",
   "metadata": {},
   "source": [
    "#### Ejercicio típico:\n",
    "Enunciado: Escribe un programa que utilice variables booleanas para representar dos estados: es_estudiante y tiene_permiso. Utiliza condicionales para verificar si el usuario es estudiante y si tiene permiso. Muestra un mensaje adecuado según el estado de las variables."
   ]
  },
  {
   "cell_type": "code",
   "execution_count": null,
   "metadata": {},
   "outputs": [],
   "source": [
    "if __name__ == \"__main__\":\n",
    "    pass"
   ]
  },
  {
   "cell_type": "markdown",
   "metadata": {},
   "source": [
    "#### Ejercicio de la vida cotidiana:\n",
    "Enunciado: Imagina que estás planificando una salida con amigos y necesitas verificar ciertas condiciones. Crea un programa que utilice variables booleanas para representar dos estados: si eres estudiante y si tienes permiso de tus padres. Utiliza condicionales para comprobar si eres estudiante y si tienes permiso para salir. Muestra mensajes indicando si puedes salir o no, según el estado de las variables."
   ]
  },
  {
   "cell_type": "code",
   "execution_count": null,
   "metadata": {},
   "outputs": [],
   "source": [
    "if __name__ == \"__main__\":\n",
    "    pass"
   ]
  },
  {
   "cell_type": "markdown",
   "metadata": {},
   "source": [
    "---"
   ]
  },
  {
   "cell_type": "markdown",
   "metadata": {},
   "source": [
    "## b) Listas:"
   ]
  },
  {
   "cell_type": "markdown",
   "metadata": {},
   "source": [
    "### Ejercicio típico:\n",
    "Escribe un programa que cree una lista de nombres de frutas y luego imprima cada uno de los nombres en una línea separada."
   ]
  },
  {
   "cell_type": "code",
   "execution_count": null,
   "metadata": {},
   "outputs": [],
   "source": [
    "if __name__ == \"__main__\":\n",
    "    pass"
   ]
  },
  {
   "cell_type": "markdown",
   "metadata": {},
   "source": [
    "### Ejercicio de la vida cotidiana:\n",
    "Supongamos que estás organizando un viaje en grupo y necesitas hacer una lista de los artículos que cada persona debe llevar consigo. Escribe un programa que solicite el nombre de cada persona y los artículos que llevará, y luego imprima la lista completa de personas y sus respectivos artículos."
   ]
  },
  {
   "cell_type": "code",
   "execution_count": null,
   "metadata": {},
   "outputs": [],
   "source": [
    "if __name__ == \"__main__\":\n",
    "    pass"
   ]
  },
  {
   "cell_type": "markdown",
   "metadata": {},
   "source": [
    "---"
   ]
  },
  {
   "cell_type": "markdown",
   "metadata": {},
   "source": [
    "## c) Sentencias de control:"
   ]
  },
  {
   "cell_type": "markdown",
   "metadata": {},
   "source": [
    "### Ejercicio típico:\n",
    "Escribe un programa que solicite al usuario ingresar un número y verifique si es positivo, negativo o cero utilizando la estructura `if-elif-else`."
   ]
  },
  {
   "cell_type": "code",
   "execution_count": null,
   "metadata": {},
   "outputs": [],
   "source": [
    "if __name__ == \"__main__\":\n",
    "    pass"
   ]
  },
  {
   "cell_type": "markdown",
   "metadata": {},
   "source": [
    "### Ejercicio de la vida cotidiana:\n",
    "Imagina que estás escribiendo un programa de reservas para un cine y necesitas verificar la edad del usuario antes de permitirle reservar una entrada para una película clasificada para mayores de edad. Escribe un programa que solicite al usuario ingresar su fecha de nacimiento y muestre un mensaje indicando si puede realizar la reserva o no."
   ]
  },
  {
   "cell_type": "code",
   "execution_count": null,
   "metadata": {},
   "outputs": [],
   "source": [
    "if __name__ == \"__main__\":\n",
    "    pass"
   ]
  },
  {
   "cell_type": "markdown",
   "metadata": {},
   "source": [
    "---"
   ]
  },
  {
   "cell_type": "markdown",
   "metadata": {},
   "source": [
    "## c) Loops"
   ]
  },
  {
   "cell_type": "markdown",
   "metadata": {},
   "source": [
    "### Ejercicio típico:\n",
    "Escribe un programa que utilice un loop while para imprimir los números del 1 al 10."
   ]
  },
  {
   "cell_type": "code",
   "execution_count": null,
   "metadata": {},
   "outputs": [],
   "source": []
  },
  {
   "cell_type": "markdown",
   "metadata": {},
   "source": [
    "### Ejercicio de la vida cotidiana:\n",
    "Imagina que estás organizando una fiesta de cumpleaños y necesitas imprimir etiquetas para los invitados. Escribe un programa que utilice un loop `while` para imprimir las etiquetas de los invitados con sus respectivos nombres hasta llegar al último invitado.\n",
    "\n",
    "\"Ana\", \"Juan\", \"María\", \"Carlos\", \"Laura\", \"Pedro\", \"Sofía\", \"Luis\""
   ]
  },
  {
   "cell_type": "code",
   "execution_count": null,
   "metadata": {},
   "outputs": [],
   "source": []
  },
  {
   "cell_type": "markdown",
   "metadata": {},
   "source": [
    "---"
   ]
  },
  {
   "cell_type": "markdown",
   "metadata": {},
   "source": [
    "## d) Diferentes tipos de for (range, in, list comprehension):"
   ]
  },
  {
   "cell_type": "markdown",
   "metadata": {},
   "source": [
    "### Ejercicio típico:\n",
    "Escribe un programa que utilice un loop for con la función range para imprimir los números pares del 1 al 10."
   ]
  },
  {
   "cell_type": "code",
   "execution_count": null,
   "metadata": {},
   "outputs": [],
   "source": [
    "if __name__ == \"__main__\":\n",
    "    pass"
   ]
  },
  {
   "cell_type": "markdown",
   "metadata": {},
   "source": [
    "### Ejercicio de la vida cotidiana:\n",
    "Supongamos que estás llevando a cabo un censo en tu vecindario y necesitas registrar los nombres de las personas mayores de edad. Escribe un programa que utilice un loop `for` con la función `range` para solicitar el nombre de cada persona y verificar si es mayor de edad."
   ]
  },
  {
   "cell_type": "markdown",
   "metadata": {},
   "source": [
    "---"
   ]
  },
  {
   "cell_type": "markdown",
   "metadata": {},
   "source": [
    "## e) Tuplas:"
   ]
  },
  {
   "cell_type": "markdown",
   "metadata": {},
   "source": [
    "### Ejercicio típico:\n",
    "Escribe un programa que solicite al usuario ingresar las coordenadas x e y de un punto y luego las almacene en una tupla. Luego, muestra las coordenadas almacenadas en la tupla."
   ]
  },
  {
   "cell_type": "code",
   "execution_count": null,
   "metadata": {},
   "outputs": [],
   "source": [
    "if __name__ == \"__main__\":\n",
    "    pass"
   ]
  },
  {
   "cell_type": "markdown",
   "metadata": {},
   "source": [
    "### Ejercicio de la vida cotidiana:\n",
    "Imagina que estás registrando la información de los participantes en una conferencia. Escribe un programa que solicite el nombre y la ocupación de cada participante, y luego almacene esta información en una tupla. Finalmente, muestra la lista de participantes con sus nombres y ocupaciones."
   ]
  },
  {
   "cell_type": "code",
   "execution_count": null,
   "metadata": {},
   "outputs": [],
   "source": [
    "if __name__ == \"__main__\":\n",
    "    pass"
   ]
  },
  {
   "cell_type": "markdown",
   "metadata": {},
   "source": [
    "---"
   ]
  },
  {
   "cell_type": "markdown",
   "metadata": {},
   "source": [
    "## f) Sets:"
   ]
  },
  {
   "cell_type": "markdown",
   "metadata": {},
   "source": [
    "### Ejercicio típico:\n",
    "Escribe un programa que solicite al usuario ingresar las coordenadas x e y de un punto y luego las almacene en una tupla. Luego, muestra las coordenadas almacenadas en la tupla."
   ]
  },
  {
   "cell_type": "code",
   "execution_count": null,
   "metadata": {},
   "outputs": [],
   "source": [
    "if __name__ == \"__main__\":\n",
    "    pass"
   ]
  },
  {
   "cell_type": "markdown",
   "metadata": {},
   "source": [
    "### Ejercicio de la vida cotidiana:\n",
    "Supongamos que estás organizando un club de intercambio de libros y necesitas encontrar los libros que son comunes entre los diferentes miembros. Escribe un programa que cree dos sets de libros, uno para cada miembro, y luego encuentre la intersección de los dos sets. Luego, muestra los libros que son comunes entre los miembros del club."
   ]
  },
  {
   "cell_type": "code",
   "execution_count": null,
   "metadata": {},
   "outputs": [],
   "source": [
    "if __name__ == \"__main__\":\n",
    "    pass"
   ]
  },
  {
   "cell_type": "markdown",
   "metadata": {},
   "source": [
    "---"
   ]
  },
  {
   "cell_type": "markdown",
   "metadata": {
    "id": "-XPvvh1ABTqW"
   },
   "source": [
    "## g) Lectura de ficheros:"
   ]
  },
  {
   "cell_type": "markdown",
   "metadata": {
    "id": "qz8hFPu4BXjY"
   },
   "source": [
    "Leer el fichero file-coderstool.csv"
   ]
  },
  {
   "cell_type": "code",
   "execution_count": null,
   "metadata": {
    "id": "h5fdczVuAxbZ"
   },
   "outputs": [],
   "source": [
    "def read_file(path) -> list:\n",
    "    \"\"\"\n",
    "        Lectura de un archivo\n",
    "        @params {str} path: Ruta junto con el nombre y extensión del archivo\n",
    "        @return {list}\n",
    "    \"\"\"\n",
    "    pass"
   ]
  },
  {
   "cell_type": "code",
   "execution_count": null,
   "metadata": {},
   "outputs": [],
   "source": [
    "if __name__ == \"__main__\":\n",
    "    pass"
   ]
  }
 ],
 "metadata": {
  "colab": {
   "provenance": []
  },
  "kernelspec": {
   "display_name": "Python 3 (ipykernel)",
   "language": "python",
   "name": "python3"
  },
  "language_info": {
   "codemirror_mode": {
    "name": "ipython",
    "version": 3
   },
   "file_extension": ".py",
   "mimetype": "text/x-python",
   "name": "python",
   "nbconvert_exporter": "python",
   "pygments_lexer": "ipython3",
   "version": "3.10.6"
  },
  "vscode": {
   "interpreter": {
    "hash": "31f2aee4e71d21fbe5cf8b01ff0e069b9275f58929596ceb00d14d90e3e16cd6"
   }
  }
 },
 "nbformat": 4,
 "nbformat_minor": 1
}
