{
 "cells": [
  {
   "cell_type": "markdown",
   "metadata": {
    "id": "fX0AMtvVBPLH"
   },
   "source": [
    "# **S4: Python básico**"
   ]
  },
  {
   "cell_type": "markdown",
   "metadata": {},
   "source": [
    "---"
   ]
  },
  {
   "cell_type": "markdown",
   "metadata": {},
   "source": [
    "## a) Variables:"
   ]
  },
  {
   "cell_type": "markdown",
   "metadata": {},
   "source": [
    "### 1. Variables numéricas:"
   ]
  },
  {
   "cell_type": "markdown",
   "metadata": {},
   "source": [
    "#### Ejercicio:\n",
    "**Enunciado**:\n",
    "Escribe un programa en Python que solicite al usuario su nombre, edad y peso. El programa debe calcular el índice de masa corporal (IMC) del usuario utilizando la siguiente fórmula: `IMC = peso / (altura^2)`. La altura se considerará constante y se establecerá como 1.75 metros. El programa debe imprimir el nombre del usuario, su edad, peso y el valor calculado del IMC.\n",
    "\n",
    "Pasos a seguir:\n",
    "\n",
    "1. Solicitar al usuario que ingrese su nombre.\n",
    "2. Solicitar al usuario que ingrese su edad.\n",
    "3. Solicitar al usuario que ingrese su peso.\n",
    "4. Calcular el IMC utilizando la fórmula IMC = peso / (altura^2), donde altura = 1.75.\n",
    "5. Imprimir el nombre del usuario, su edad, peso y el valor calculado del IMC."
   ]
  },
  {
   "cell_type": "code",
   "execution_count": null,
   "metadata": {},
   "outputs": [],
   "source": [
    "if __name__ == \"__main__\":\n",
    "    pass"
   ]
  },
  {
   "cell_type": "markdown",
   "metadata": {},
   "source": [
    "### 2. Variables de texto"
   ]
  },
  {
   "cell_type": "markdown",
   "metadata": {},
   "source": [
    "#### Ejercicio:\n",
    "**Enunciado:**\n",
    "Escribe un programa en Python que solicite al usuario que ingrese una palabra y realice las siguientes operaciones con ella:\n",
    "\n",
    "1. Imprimir la longitud de la palabra ingresada.\n",
    "2. Imprimir la palabra en mayúsculas.\n",
    "3. Imprimir la palabra en minúsculas.\n",
    "4. Imprimir la primera letra de la palabra.\n",
    "5. Imprimir la última letra de la palabra.\n",
    "6. Imprimir la palabra invertida.\n",
    "\n",
    "<br>\n",
    "\n",
    "Pasos a seguir:\n",
    "\n",
    "Solicitar al usuario que ingrese una palabra.\n",
    "- Calcular la longitud de la palabra utilizando la función `len()`.\n",
    "- Convertir la palabra a mayúsculas utilizando el `método upper()`.\n",
    "- Convertir la palabra a minúsculas utilizando el `método lower()`.\n",
    "- Obtener la primera letra de la palabra utilizando el índice `[0]`.\n",
    "- Obtener la última letra de la palabra utilizando el índice `[-1]`.\n",
    "- Invertir la palabra utilizando el slicing con paso `-1`."
   ]
  },
  {
   "cell_type": "code",
   "execution_count": null,
   "metadata": {},
   "outputs": [],
   "source": [
    "if __name__ == \"__main__\":\n",
    "    pass"
   ]
  },
  {
   "cell_type": "markdown",
   "metadata": {},
   "source": [
    "### 3. Variables booleanas"
   ]
  },
  {
   "cell_type": "markdown",
   "metadata": {},
   "source": [
    "#### Ejercicio:\n",
    "**Enunciado:**\n",
    "Escribe un programa en Python que solicite al usuario dos números enteros. El programa debe verificar si el primer número es mayor que el segundo número e imprimir un mensaje indicando si la afirmación es verdadera o falsa.\n",
    "\n",
    "<br>\n",
    "\n",
    "Pasos a seguir:\n",
    "\n",
    "1. Solicitar al usuario que ingrese el primer número y almacenarlo en una variable.\n",
    "2. Solicitar al usuario que ingrese el segundo número y almacenarlo en otra variable.\n",
    "3. Utilizar una estructura de control (if-else) para comparar los dos números y determinar si el primer número es mayor que el segundo.\n",
    "4. Crear una variable booleana para almacenar el resultado de la comparación.\n",
    "5. Imprimir un mensaje indicando si la afirmación \"El primer número es mayor que el segundo número\" es verdadera o falsa, utilizando la variable booleana."
   ]
  },
  {
   "cell_type": "code",
   "execution_count": null,
   "metadata": {},
   "outputs": [],
   "source": [
    "if __name__ == \"__main__\":\n",
    "    pass"
   ]
  },
  {
   "cell_type": "markdown",
   "metadata": {},
   "source": [
    "---"
   ]
  },
  {
   "cell_type": "markdown",
   "metadata": {},
   "source": [
    "## b) Listas:"
   ]
  },
  {
   "cell_type": "markdown",
   "metadata": {},
   "source": [
    "### Ejercicio de la vida cotidiana:\n",
    "**Enunciado:**\n",
    "Escribe un programa en Python que solicite al usuario una lista de números enteros y luego realice las siguientes operaciones:\n",
    "\n",
    "1. Imprimir la lista ingresada por el usuario.\n",
    "2. Calcular la suma de todos los números de la lista.\n",
    "3. Calcular el promedio de los números de la lista.\n",
    "4. Encontrar el número máximo y mínimo de la lista.\n",
    "5. Crear una nueva lista con los números pares de la lista original.\n",
    "6. Imprimir la nueva lista de números pares.\n",
    "<br>\n",
    "\n",
    "Pasos a seguir:\n",
    "\n",
    "1. Solicitar al usuario que ingrese una lista de números enteros, separados por espacios, y almacenarlos en una variable.\n",
    "2. Utilizar la función split() para dividir la cadena de entrada en una lista de números.\n",
    "3. Utilizar un bucle for para recorrer la lista e imprimir los números uno por uno.\n",
    "4. Utilizar la función sum() para calcular la suma de todos los números de la lista.\n",
    "5. Calcular el promedio dividiendo la suma por la longitud de la lista.\n",
    "6. Utilizar las funciones max() y min() para encontrar el número máximo y mínimo de la lista.\n",
    "7. Utilizar un bucle for para recorrer la lista y agregar los números pares a una nueva lista.\n",
    "8. Imprimir la nueva lista de números pares."
   ]
  },
  {
   "cell_type": "code",
   "execution_count": null,
   "metadata": {},
   "outputs": [],
   "source": [
    "def run():\n",
    "    \"\"\"\n",
    "        Función main del programa\n",
    "    \"\"\"\n",
    "    pass"
   ]
  },
  {
   "cell_type": "code",
   "execution_count": null,
   "metadata": {},
   "outputs": [],
   "source": [
    "if __name__ == \"__main__\":\n",
    "    pass"
   ]
  },
  {
   "cell_type": "markdown",
   "metadata": {},
   "source": [
    "---"
   ]
  },
  {
   "cell_type": "markdown",
   "metadata": {},
   "source": [
    "## c) Sentencias de control:"
   ]
  },
  {
   "cell_type": "markdown",
   "metadata": {},
   "source": [
    "### Ejercicio:\n",
    "**Enunciado:**\n",
    "Escribe un programa en Python que solicite al usuario su edad y determine si es mayor de edad o no. Si es mayor de edad, el programa debe imprimir \"Eres mayor de edad\". En caso contrario, debe imprimir \"Eres menor de edad\".\n",
    "<br>\n",
    "\n",
    "Pasos a seguir:\n",
    "\n",
    "1. Solicitar al usuario que ingrese su edad y almacenarla en una variable.\n",
    "2. Utilizar una sentencia de control, como una estructura condicional `if-else`, para verificar si la edad es mayor o igual a 18.\n",
    "3. Si la edad es mayor o igual a 18, imprimir *Eres mayor de edad*.\n",
    "4. En caso contrario, imprimir *Eres menor de edad*."
   ]
  },
  {
   "cell_type": "code",
   "execution_count": null,
   "metadata": {},
   "outputs": [],
   "source": [
    "def run():\n",
    "    \"\"\"\n",
    "        Función main del programa\n",
    "    \"\"\"\n",
    "    pass"
   ]
  },
  {
   "cell_type": "code",
   "execution_count": null,
   "metadata": {},
   "outputs": [],
   "source": [
    "if __name__ == \"__main__\":\n",
    "    pass"
   ]
  },
  {
   "cell_type": "markdown",
   "metadata": {},
   "source": [
    "---"
   ]
  },
  {
   "cell_type": "markdown",
   "metadata": {},
   "source": [
    "## c) Loops"
   ]
  },
  {
   "cell_type": "markdown",
   "metadata": {},
   "source": [
    "### Ejercicio:\n",
    "**Enunciado:**\n",
    "Escribe un programa en Python que solicite al usuario un número entero positivo y muestre en pantalla todos los números pares desde 0 hasta ese número utilizando un bucle while.\n",
    "<br>\n",
    "\n",
    "Pasos a seguir:\n",
    "\n",
    "1. Solicitar al usuario que ingrese un número entero positivo y almacenarlo en una variable.\n",
    "2. Verificar si el número ingresado es positivo. Si no lo es, solicitar nuevamente al usuario que ingrese un número hasta que se cumpla esta condición.\n",
    "3. Inicializar una variable en 0 para representar el contador.\n",
    "4. Utilizar un bucle `while` para iterar desde 0 hasta el número ingresado.\n",
    "5. En cada iteración, verificar si el número actual es par utilizando la operación de módulo (%). Si es par, imprimirlo en pantalla.\n",
    "6. Incrementar el contador en cada iteración.\n",
    "7. Continuar con el bucle hasta que se alcance el número ingresado."
   ]
  },
  {
   "cell_type": "code",
   "execution_count": null,
   "metadata": {},
   "outputs": [],
   "source": [
    "def run():\n",
    "    \"\"\"\n",
    "        Función main del programa\n",
    "    \"\"\"\n",
    "    pass"
   ]
  },
  {
   "cell_type": "code",
   "execution_count": null,
   "metadata": {},
   "outputs": [],
   "source": [
    "if __name__ == \"__main__\":\n",
    "    pass"
   ]
  },
  {
   "cell_type": "markdown",
   "metadata": {},
   "source": [
    "---"
   ]
  },
  {
   "cell_type": "markdown",
   "metadata": {},
   "source": [
    "## d) Diferentes tipos de for (range, in, list comprehension):"
   ]
  },
  {
   "cell_type": "markdown",
   "metadata": {},
   "source": [
    "### Ejercicio de la vida cotidiana:\n",
    "**Enunciado:**\n",
    "Escribe un programa en Python que reciba una lista de números enteros del usuario y calcule la suma de todos los números pares en la lista utilizando un ciclo for. Luego, imprime el resultado.\n",
    "<br>\n",
    "\n",
    "Pasos a seguir:\n",
    "\n",
    "1. Solicitar al usuario que ingrese una lista de números enteros separados por espacios.\n",
    "2. Utilizar la función split para convertir la entrada en una lista de cadenas.\n",
    "3. Utilizar un ciclo for para recorrer cada elemento de la lista.\n",
    "4. Convertir cada elemento en un número entero utilizando la función int.\n",
    "5. Verificar si el número es par utilizando el operador de módulo %.\n",
    "6. Si el número es par, agregarlo a una variable acumuladora de la suma.\n",
    "7. Imprimir el resultado de la suma de los números pares."
   ]
  },
  {
   "cell_type": "code",
   "execution_count": null,
   "metadata": {},
   "outputs": [],
   "source": [
    "def run():\n",
    "    \"\"\"\n",
    "        Función main del programa\n",
    "    \"\"\"\n",
    "    pass"
   ]
  },
  {
   "cell_type": "code",
   "execution_count": null,
   "metadata": {},
   "outputs": [],
   "source": [
    "if __name__ == \"__main__\":\n",
    "    pass"
   ]
  },
  {
   "cell_type": "markdown",
   "metadata": {},
   "source": [
    "---"
   ]
  },
  {
   "cell_type": "markdown",
   "metadata": {
    "id": "-XPvvh1ABTqW"
   },
   "source": [
    "## e) Lectura de ficheros:"
   ]
  },
  {
   "cell_type": "markdown",
   "metadata": {
    "id": "qz8hFPu4BXjY"
   },
   "source": [
    "Leer el fichero file-coderstool.csv"
   ]
  },
  {
   "cell_type": "code",
   "execution_count": null,
   "metadata": {
    "id": "h5fdczVuAxbZ"
   },
   "outputs": [],
   "source": [
    "def read_file(path:str) -> list:\n",
    "    \"\"\"\n",
    "        Lectura de un archivo\n",
    "        @params {str} path: Ruta junto con el nombre y extensión del archivo\n",
    "        @return {list}\n",
    "    \"\"\"\n",
    "    pass"
   ]
  },
  {
   "cell_type": "code",
   "execution_count": null,
   "metadata": {},
   "outputs": [],
   "source": [
    "if __name__ == \"__main__\":\n",
    "    pass"
   ]
  },
  {
   "cell_type": "markdown",
   "metadata": {},
   "source": [
    "---"
   ]
  },
  {
   "cell_type": "markdown",
   "metadata": {
    "id": "-XPvvh1ABTqW"
   },
   "source": [
    "## f) Repaso:"
   ]
  },
  {
   "cell_type": "markdown",
   "metadata": {
    "id": "qz8hFPu4BXjY"
   },
   "source": [
    "**Problmea**\n",
    "Considere una lista (list = []) Puede ejecutar los siguientes comandos:\n",
    "1. `insert i e`: inserte el entero e en la posición i.\n",
    "2. `print`: Imprime la lista.\n",
    "3. `remove e`: Elimina la primera ocurrencia del entero e.\n",
    "4. `append e`: inserta el número entero e al final de la lista.\n",
    "5. `sort`: ordenar la lista.\n",
    "6. `pop`: Pop el último elemento de la lista\n",
    "7. `reverse`: invertir la lista.\n",
    "\n",
    "Inicialice su lista y lea el valor de `n` seguido de `n` líneas de comandos donde cada comando será de los 7 tipos enumerados anteriormente. Repita cada comando en orden y realice la operación correspondiente en su lista.\n",
    "\n",
    "**Ejemplo**\n",
    "- N=4\n",
    "- `append 1`\n",
    "- `append 2`\n",
    "- `insert 3 1`\n",
    "- `print`\n",
    "- `append 1`: agregar 1 a la lista, arr = [1]\n",
    "- `append 2`: agregar 2 a la lista, arr = [1, 2]\n",
    "- `insert 3 1`: Insertar 3 en el índice 1, arr = [1, 3, 2]\n",
    "- `print`: Imprime la matriz.\n",
    "\n",
    "\n",
    "**Salida:**  \n",
    "```python\n",
    "[1, 3, 2]\n",
    "```\n",
    "\n",
    "**Formato de entrada**  \n",
    "La primera línea contiene un número entero, n, que indica el número de comandos. Cada línea i de las n líneas subsiguientes contiene uno de los comandos descritos anteriormente.\n",
    "\n",
    "**Restricciones**  \n",
    "- Los elementos agregados a la lista deben ser números enteros.\n",
    "\n",
    "**Formato de salida**  \n",
    "Para cada comando de tipo print. imprimir la lista en una nueva línea.\n",
    "\n",
    "**Entrada de muestra 0**  \n",
    "```\n",
    "12\n",
    "insert 0 5\n",
    "insert 1 10\n",
    "insert 0 6\n",
    "print\n",
    "remove 6\n",
    "append 9\n",
    "append 1\n",
    "sort\n",
    "print\n",
    "pop\n",
    "reverse\n",
    "print\n",
    "```\n",
    "\n",
    "**Ejemplo de salida 0**  \n",
    "```python\n",
    "[6, 5, 10]\n",
    "[1, 9, 5, 9, 10]\n",
    "[9, 5, 1]\n",
    "```"
   ]
  },
  {
   "cell_type": "code",
   "execution_count": null,
   "metadata": {},
   "outputs": [],
   "source": [
    "def run():\n",
    "    \"\"\"\n",
    "        Función main del programa\n",
    "    \"\"\"\n",
    "    pass        "
   ]
  },
  {
   "cell_type": "code",
   "execution_count": null,
   "metadata": {},
   "outputs": [],
   "source": [
    "insert i e\n",
    "print\n",
    "remove e\n",
    "append e\n",
    "sort\n",
    "pop:\n",
    "reverse"
   ]
  },
  {
   "cell_type": "code",
   "execution_count": null,
   "metadata": {},
   "outputs": [],
   "source": [
    "if __name__ == \"__main__\":\n",
    "    run()"
   ]
  }
 ],
 "metadata": {
  "colab": {
   "provenance": []
  },
  "kernelspec": {
   "display_name": "Python 3 (ipykernel)",
   "language": "python",
   "name": "python3"
  },
  "language_info": {
   "codemirror_mode": {
    "name": "ipython",
    "version": 3
   },
   "file_extension": ".py",
   "mimetype": "text/x-python",
   "name": "python",
   "nbconvert_exporter": "python",
   "pygments_lexer": "ipython3",
   "version": "3.10.6"
  },
  "vscode": {
   "interpreter": {
    "hash": "31f2aee4e71d21fbe5cf8b01ff0e069b9275f58929596ceb00d14d90e3e16cd6"
   }
  }
 },
 "nbformat": 4,
 "nbformat_minor": 1
}
